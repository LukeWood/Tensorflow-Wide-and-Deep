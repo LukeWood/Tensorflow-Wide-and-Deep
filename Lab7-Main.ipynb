{
 "cells": [
  {
   "cell_type": "markdown",
   "metadata": {},
   "source": [
    "# Seizing the Means of Tenserflow ☭\n",
    "   \n",
    "## Lab Seven: Wide and Deep Network Architectures\n",
    "   \n",
    "### Justin Ledford, Luke Wood, Traian Pop"
   ]
  },
  {
   "cell_type": "code",
   "execution_count": 1,
   "metadata": {
    "collapsed": true
   },
   "outputs": [],
   "source": [
    "%matplotlib inline\n",
    "import numpy as np\n",
    "import plotly\n",
    "import pandas as pd\n",
    "import matplotlib.pyplot as plt\n",
    "import time\n",
    "import sys\n",
    "import requests\n",
    "\n",
    "import warnings\n",
    "warnings.filterwarnings('ignore')"
   ]
  },
  {
   "cell_type": "markdown",
   "metadata": {},
   "source": [
    "## Dataset Selection\n",
    "\n",
    "For this project, we chose the Census-Income-MLD dataset from the UCI Machine Learning Repository due to nature of the set being exactly what we needed. The set has both categorical and integer data, a large number of attributes (40), and a very large number of instances (approximately 300,000). Not only that, but the data is also very applicable and highly wanted in our society.\n",
    "   \n",
    "The dataset's goal is to be able to predict whether a person, based on the values of their attributes, is under or over the 50k income bar. However, our goal for this report is not simply just accuracy. We are placing much heavier emphasis on catching false negatives in the over 50k limit section. The reason for this choise falls under the logic of marketing and advertising. Since the census is public knowledge, advertising companies tend to use it to be able to predict their target market and where they are most likely to have an affect. \n",
    "   \n",
    "One target for these companies are individuals who make more than the average amount for they have more money to spend. If an advertiser is given a list that is missing a good deal of >50k individuals, they are also missing out on potential profit. This is something that our report will prioritize in order for a situation like that to be avoided.\n"
   ]
  },
  {
   "cell_type": "markdown",
   "metadata": {},
   "source": [
    "## Pre-Processing the Data"
   ]
  },
  {
   "cell_type": "code",
   "execution_count": 2,
   "metadata": {
    "collapsed": true
   },
   "outputs": [],
   "source": [
    "import pandas as pd\n",
    "import numpy as np\n",
    "import requests\n",
    "\n",
    "\n",
    "# Get column names\n",
    "r = requests.get('https://raw.githubusercontent.com/LukeWoodSMU/WillBeRenamed/master/col_names.txt')\n",
    "\n",
    "if r.status_code == 200:\n",
    "    columns = r.text.replace(\" \",\"_\").replace(\"'\",\"\").split('\\n')[:-1]\n",
    "else:\n",
    "    print('Error loading column names')"
   ]
  },
  {
   "cell_type": "code",
   "execution_count": 3,
   "metadata": {},
   "outputs": [
    {
     "name": "stdout",
     "output_type": "stream",
     "text": [
      "['age', 'class_of_worker', 'industry_code', 'occupation_code', 'education', 'wage_per_hour', 'enrolled_in_edu_inst_last_wk', 'marital_status', 'major_industry_code', 'major_occupation_code', 'race', 'hispanic_origin', 'sex', 'member_of_a_labor_union', 'reason_for_unemployment', 'full_or_part_time_employment_stat', 'capital_gains', 'capital_losses', 'dividends_from_stocks', 'tax_filer_status', 'region_of_previous_residence', 'state_of_previous_residence', 'detailed_household_and_family_stat', 'detailed_household_summary_in_household', 'migration_code-change_in_msa', 'migration_code-change_in_reg', 'migration_code-move_within_reg', 'live_in_this_house_1_year_ago', 'migration_prev_res_in_sunbelt', 'num_persons_worked_for_employer', 'family_members_under_18', 'country_of_birth_father', 'country_of_birth_mother', 'country_of_birth_self', 'citizenship', 'own_business_or_self_employed', 'fill_inc_questionnaire_for_veterans_admin', 'veterans_benefits', 'weeks_worked_in_year', 'year', 'income']\n"
     ]
    }
   ],
   "source": [
    "print(columns)"
   ]
  },
  {
   "cell_type": "markdown",
   "metadata": {},
   "source": [
    "As you can see, there is a large number of attributes, with categories ranging anywhere from age to benefits. In order to ease the work on our program and receive better results, we will be crossing some of these attributes together."
   ]
  },
  {
   "cell_type": "markdown",
   "metadata": {},
   "source": [
    "First we preprocess the data by removing the \"weight\" column which is irrelevant for training our classifier. We also remove any instances that are missing any feature values."
   ]
  },
  {
   "cell_type": "code",
   "execution_count": 4,
   "metadata": {},
   "outputs": [
    {
     "data": {
      "text/html": [
       "<div>\n",
       "<table border=\"1\" class=\"dataframe\">\n",
       "  <thead>\n",
       "    <tr style=\"text-align: right;\">\n",
       "      <th></th>\n",
       "      <th>age</th>\n",
       "      <th>class_of_worker</th>\n",
       "      <th>industry_code</th>\n",
       "      <th>occupation_code</th>\n",
       "      <th>education</th>\n",
       "      <th>wage_per_hour</th>\n",
       "      <th>enrolled_in_edu_inst_last_wk</th>\n",
       "      <th>marital_status</th>\n",
       "      <th>major_industry_code</th>\n",
       "      <th>major_occupation_code</th>\n",
       "      <th>...</th>\n",
       "      <th>country_of_birth_father</th>\n",
       "      <th>country_of_birth_mother</th>\n",
       "      <th>country_of_birth_self</th>\n",
       "      <th>citizenship</th>\n",
       "      <th>own_business_or_self_employed</th>\n",
       "      <th>fill_inc_questionnaire_for_veterans_admin</th>\n",
       "      <th>veterans_benefits</th>\n",
       "      <th>weeks_worked_in_year</th>\n",
       "      <th>year</th>\n",
       "      <th>income</th>\n",
       "    </tr>\n",
       "  </thead>\n",
       "  <tbody>\n",
       "    <tr>\n",
       "      <th>1</th>\n",
       "      <td>58</td>\n",
       "      <td>Self-employed-not incorporated</td>\n",
       "      <td>4</td>\n",
       "      <td>34</td>\n",
       "      <td>Some college but no degree</td>\n",
       "      <td>0</td>\n",
       "      <td>Not in universe</td>\n",
       "      <td>Divorced</td>\n",
       "      <td>Construction</td>\n",
       "      <td>Precision production craft &amp; repair</td>\n",
       "      <td>...</td>\n",
       "      <td>United-States</td>\n",
       "      <td>United-States</td>\n",
       "      <td>United-States</td>\n",
       "      <td>Native- Born in the United States</td>\n",
       "      <td>0</td>\n",
       "      <td>Not in universe</td>\n",
       "      <td>2</td>\n",
       "      <td>52</td>\n",
       "      <td>94</td>\n",
       "      <td>- 50000.</td>\n",
       "    </tr>\n",
       "    <tr>\n",
       "      <th>3</th>\n",
       "      <td>9</td>\n",
       "      <td>Not in universe</td>\n",
       "      <td>0</td>\n",
       "      <td>0</td>\n",
       "      <td>Children</td>\n",
       "      <td>0</td>\n",
       "      <td>Not in universe</td>\n",
       "      <td>Never married</td>\n",
       "      <td>Not in universe or children</td>\n",
       "      <td>Not in universe</td>\n",
       "      <td>...</td>\n",
       "      <td>United-States</td>\n",
       "      <td>United-States</td>\n",
       "      <td>United-States</td>\n",
       "      <td>Native- Born in the United States</td>\n",
       "      <td>0</td>\n",
       "      <td>Not in universe</td>\n",
       "      <td>0</td>\n",
       "      <td>0</td>\n",
       "      <td>94</td>\n",
       "      <td>- 50000.</td>\n",
       "    </tr>\n",
       "    <tr>\n",
       "      <th>4</th>\n",
       "      <td>10</td>\n",
       "      <td>Not in universe</td>\n",
       "      <td>0</td>\n",
       "      <td>0</td>\n",
       "      <td>Children</td>\n",
       "      <td>0</td>\n",
       "      <td>Not in universe</td>\n",
       "      <td>Never married</td>\n",
       "      <td>Not in universe or children</td>\n",
       "      <td>Not in universe</td>\n",
       "      <td>...</td>\n",
       "      <td>United-States</td>\n",
       "      <td>United-States</td>\n",
       "      <td>United-States</td>\n",
       "      <td>Native- Born in the United States</td>\n",
       "      <td>0</td>\n",
       "      <td>Not in universe</td>\n",
       "      <td>0</td>\n",
       "      <td>0</td>\n",
       "      <td>94</td>\n",
       "      <td>- 50000.</td>\n",
       "    </tr>\n",
       "    <tr>\n",
       "      <th>6</th>\n",
       "      <td>42</td>\n",
       "      <td>Private</td>\n",
       "      <td>34</td>\n",
       "      <td>3</td>\n",
       "      <td>Bachelors degree(BA AB BS)</td>\n",
       "      <td>0</td>\n",
       "      <td>Not in universe</td>\n",
       "      <td>Married-civilian spouse present</td>\n",
       "      <td>Finance insurance and real estate</td>\n",
       "      <td>Executive admin and managerial</td>\n",
       "      <td>...</td>\n",
       "      <td>United-States</td>\n",
       "      <td>United-States</td>\n",
       "      <td>United-States</td>\n",
       "      <td>Native- Born in the United States</td>\n",
       "      <td>0</td>\n",
       "      <td>Not in universe</td>\n",
       "      <td>2</td>\n",
       "      <td>52</td>\n",
       "      <td>94</td>\n",
       "      <td>- 50000.</td>\n",
       "    </tr>\n",
       "    <tr>\n",
       "      <th>9</th>\n",
       "      <td>34</td>\n",
       "      <td>Private</td>\n",
       "      <td>4</td>\n",
       "      <td>37</td>\n",
       "      <td>Some college but no degree</td>\n",
       "      <td>0</td>\n",
       "      <td>Not in universe</td>\n",
       "      <td>Married-civilian spouse present</td>\n",
       "      <td>Construction</td>\n",
       "      <td>Machine operators assmblrs &amp; inspctrs</td>\n",
       "      <td>...</td>\n",
       "      <td>United-States</td>\n",
       "      <td>United-States</td>\n",
       "      <td>United-States</td>\n",
       "      <td>Native- Born in the United States</td>\n",
       "      <td>0</td>\n",
       "      <td>Not in universe</td>\n",
       "      <td>2</td>\n",
       "      <td>52</td>\n",
       "      <td>94</td>\n",
       "      <td>- 50000.</td>\n",
       "    </tr>\n",
       "  </tbody>\n",
       "</table>\n",
       "<p>5 rows × 41 columns</p>\n",
       "</div>"
      ],
      "text/plain": [
       "   age                  class_of_worker  industry_code  occupation_code  \\\n",
       "1   58   Self-employed-not incorporated              4               34   \n",
       "3    9                  Not in universe              0                0   \n",
       "4   10                  Not in universe              0                0   \n",
       "6   42                          Private             34                3   \n",
       "9   34                          Private              4               37   \n",
       "\n",
       "                     education  wage_per_hour enrolled_in_edu_inst_last_wk  \\\n",
       "1   Some college but no degree              0              Not in universe   \n",
       "3                     Children              0              Not in universe   \n",
       "4                     Children              0              Not in universe   \n",
       "6   Bachelors degree(BA AB BS)              0              Not in universe   \n",
       "9   Some college but no degree              0              Not in universe   \n",
       "\n",
       "                     marital_status                 major_industry_code  \\\n",
       "1                          Divorced                        Construction   \n",
       "3                     Never married         Not in universe or children   \n",
       "4                     Never married         Not in universe or children   \n",
       "6   Married-civilian spouse present   Finance insurance and real estate   \n",
       "9   Married-civilian spouse present                        Construction   \n",
       "\n",
       "                    major_occupation_code    ...     country_of_birth_father  \\\n",
       "1     Precision production craft & repair    ...               United-States   \n",
       "3                         Not in universe    ...               United-States   \n",
       "4                         Not in universe    ...               United-States   \n",
       "6          Executive admin and managerial    ...               United-States   \n",
       "9   Machine operators assmblrs & inspctrs    ...               United-States   \n",
       "\n",
       "  country_of_birth_mother country_of_birth_self  \\\n",
       "1           United-States         United-States   \n",
       "3           United-States         United-States   \n",
       "4           United-States         United-States   \n",
       "6           United-States         United-States   \n",
       "9           United-States         United-States   \n",
       "\n",
       "                          citizenship own_business_or_self_employed  \\\n",
       "1   Native- Born in the United States                             0   \n",
       "3   Native- Born in the United States                             0   \n",
       "4   Native- Born in the United States                             0   \n",
       "6   Native- Born in the United States                             0   \n",
       "9   Native- Born in the United States                             0   \n",
       "\n",
       "  fill_inc_questionnaire_for_veterans_admin  veterans_benefits  \\\n",
       "1                           Not in universe                  2   \n",
       "3                           Not in universe                  0   \n",
       "4                           Not in universe                  0   \n",
       "6                           Not in universe                  2   \n",
       "9                           Not in universe                  2   \n",
       "\n",
       "   weeks_worked_in_year  year     income  \n",
       "1                    52    94   - 50000.  \n",
       "3                     0    94   - 50000.  \n",
       "4                     0    94   - 50000.  \n",
       "6                    52    94   - 50000.  \n",
       "9                    52    94   - 50000.  \n",
       "\n",
       "[5 rows x 41 columns]"
      ]
     },
     "execution_count": 4,
     "metadata": {},
     "output_type": "execute_result"
    }
   ],
   "source": [
    "df_train = pd.read_csv(\n",
    "        'https://archive.ics.uci.edu/ml/machine-learning-databases/census-income-mld/census-income.data.gz',\n",
    "        compression='gzip', header=None, index_col=False)\n",
    "\n",
    "\n",
    "df_test = pd.read_csv(\n",
    "        'https://archive.ics.uci.edu/ml/machine-learning-databases/census-income-mld/census-income.test.gz',\n",
    "        compression='gzip', header=None, index_col=False)\n",
    "\n",
    "\n",
    "# Remove weight columns\n",
    "df_train.drop(24, 1, inplace=True)\n",
    "df_test.drop(24, 1, inplace=True)\n",
    "\n",
    "df_train.columns = columns\n",
    "df_test.columns = columns\n",
    "\n",
    "# Remove rows with missing data and reset index\n",
    "df_train.replace(to_replace=' ?',value=np.nan, inplace=True)\n",
    "df_train.dropna(inplace=True)\n",
    "df_train.reset_index()\n",
    "\n",
    "df_test.replace(to_replace=' ?',value=np.nan, inplace=True)\n",
    "df_test.dropna(inplace=True)\n",
    "df_test.reset_index()\n",
    "\n",
    "df_train.head()\n"
   ]
  },
  {
   "cell_type": "code",
   "execution_count": 5,
   "metadata": {
    "collapsed": true
   },
   "outputs": [],
   "source": [
    "# Wage per hour to categorical\n",
    "df_train[\"wage_per_hour\"] = df_train[\"wage_per_hour\"].map(lambda i: i==0)"
   ]
  },
  {
   "cell_type": "markdown",
   "metadata": {},
   "source": [
    "Next, we encode all of our categorical attributes with one-hot encoding, and scale all of our continuous attributes."
   ]
  },
  {
   "cell_type": "code",
   "execution_count": 6,
   "metadata": {},
   "outputs": [
    {
     "data": {
      "text/plain": [
       "['class_of_worker',\n",
       " 'industry_code',\n",
       " 'occupation_code',\n",
       " 'education',\n",
       " 'enrolled_in_edu_inst_last_wk',\n",
       " 'marital_status',\n",
       " 'major_industry_code',\n",
       " 'major_occupation_code',\n",
       " 'race',\n",
       " 'hispanic_origin',\n",
       " 'sex',\n",
       " 'member_of_a_labor_union',\n",
       " 'reason_for_unemployment',\n",
       " 'full_or_part_time_employment_stat',\n",
       " 'tax_filer_status',\n",
       " 'region_of_previous_residence',\n",
       " 'state_of_previous_residence',\n",
       " 'detailed_household_and_family_stat',\n",
       " 'detailed_household_summary_in_household',\n",
       " 'migration_code-change_in_msa',\n",
       " 'migration_code-change_in_reg',\n",
       " 'migration_code-move_within_reg',\n",
       " 'live_in_this_house_1_year_ago',\n",
       " 'migration_prev_res_in_sunbelt',\n",
       " 'family_members_under_18',\n",
       " 'country_of_birth_father',\n",
       " 'country_of_birth_mother',\n",
       " 'country_of_birth_self',\n",
       " 'citizenship',\n",
       " 'own_business_or_self_employed',\n",
       " 'fill_inc_questionnaire_for_veterans_admin',\n",
       " 'veterans_benefits',\n",
       " 'year',\n",
       " 'wage_per_hour']"
      ]
     },
     "execution_count": 6,
     "metadata": {},
     "output_type": "execute_result"
    }
   ],
   "source": [
    "# Process data:\n",
    "\n",
    "# check income values consistent (only 2 values)\n",
    "\n",
    "# replace categorical with one hot encoding\n",
    "# scale continuous\n",
    "\n",
    "from sklearn.preprocessing import LabelEncoder, OneHotEncoder\n",
    "from sklearn.preprocessing import StandardScaler\n",
    "\n",
    "labels = dict() \n",
    "\n",
    "r = requests.get('https://raw.githubusercontent.com/LukeWoodSMU/WillBeRenamed/master/categorical.txt')\n",
    "categorical_labels = r.text.replace(\" \",\"_\").replace(\"'\",\"\").split('\\n')[:-1]\n",
    "\n",
    "for col in categorical_labels + ['income']:\n",
    "    # strip extra space in strings\n",
    "    if df_train[col].dtype == 'object':\n",
    "        df_train[col] = df_train[col].str.strip()\n",
    "    if df_test[col].dtype == 'object':\n",
    "        df_test[col] = df_test[col].str.strip()\n",
    "        \n",
    "    # convert to ints for one hot encoder to work\n",
    "    \n",
    "    # keep labels for reference \n",
    "    labels[col] = list(set(df_train[col].unique()) | set(df_test[col].unique()))\n",
    "    \n",
    "    df_train[col].replace(to_replace=labels[col],\n",
    "                            value=np.arange(len(labels[col])),\n",
    "                            inplace=True)\n",
    "    df_test[col].replace(to_replace=labels[col],\n",
    "                            value=np.arange(len(labels[col])),\n",
    "                            inplace=True)\n",
    "\n",
    "categorical_labels"
   ]
  },
  {
   "cell_type": "code",
   "execution_count": 40,
   "metadata": {},
   "outputs": [
    {
     "data": {
      "text/plain": [
       "['age',\n",
       " 'capital_gains',\n",
       " 'capital_losses',\n",
       " 'dividends_from_stocks',\n",
       " 'num_persons_worked_for_employer',\n",
       " 'weeks_worked_in_year']"
      ]
     },
     "execution_count": 40,
     "metadata": {},
     "output_type": "execute_result"
    }
   ],
   "source": [
    "r = requests.get('https://raw.githubusercontent.com/LukeWoodSMU/WillBeRenamed/master/continuous.txt')\n",
    "continuous_labels = r.text.replace(\" \",\"_\").replace(\"'\",\"\").split('\\n')[:-1]\n",
    "\n",
    "\n",
    "for col in continuous_labels:\n",
    "    df_train[col] = df_train[col].astype(np.float32)\n",
    "    df_test[col] = df_test[col].astype(np.float32)\n",
    "    \n",
    "    labels[col] = list(set(df_train[col].unique()) | set(df_test[col].unique()))\n",
    "    \n",
    "    ss = StandardScaler()\n",
    "    df_train[col] = ss.fit_transform(df_train[col].values.reshape(-1, 1))\n",
    "    df_test[col] = ss.transform(df_test[col].values.reshape(-1, 1))\n",
    "    \n",
    "continuous_labels"
   ]
  },
  {
   "cell_type": "markdown",
   "metadata": {},
   "source": [
    "Most of our classes are categorical, with only 6 of them being continuous. Right away we can see that the year (1994 or 1995) the data was collected is irrelevant so we will drop that one. Most of the remaining features don't seem immediately irrelevant so in order to determine which features we can drop we run a chi-squared test to estimate the correlation of each feature to our target class."
   ]
  },
  {
   "cell_type": "code",
   "execution_count": 8,
   "metadata": {
    "collapsed": true
   },
   "outputs": [],
   "source": [
    "def expected_data(observed):\n",
    "    expected = np.zeros(observed.shape)\n",
    "\n",
    "    total = observed.sum().sum()\n",
    "    for j in [0, 1]:\n",
    "        for i, col_total in enumerate(observed.sum()):\n",
    "            row_total = observed.sum(axis=1)[j]\n",
    "            expected[j][i] = row_total*col_total/total\n",
    "\n",
    "    return pd.DataFrame(expected, index=observed.index,\n",
    "                        columns=observed.columns)"
   ]
  },
  {
   "cell_type": "code",
   "execution_count": 9,
   "metadata": {
    "collapsed": true
   },
   "outputs": [],
   "source": [
    "df_freq = df_train.copy()\n",
    "def attr_freqs(attr1, attr2):\n",
    "    return pd.crosstab(df_freq[attr2], df_freq[attr1], rownames=[attr2], colnames=[attr1])"
   ]
  },
  {
   "cell_type": "code",
   "execution_count": 10,
   "metadata": {},
   "outputs": [
    {
     "data": {
      "image/png": "[encoded data removed]",
      "text/plain": [
       "<matplotlib.figure.Figure at 0x7f00c4dc1780>"
      ]
     },
     "metadata": {},
     "output_type": "display_data"
    }
   ],
   "source": [
    "chisqrs = []\n",
    "\n",
    "for colname in df_freq.columns:\n",
    "    if colname != 'income':\n",
    "        observed = attr_freqs(colname, 'income')\n",
    "        expected = expected_data(observed)\n",
    "        chisqr = (((observed-expected)**2)/expected).sum().sum()\n",
    "        chisqrs.append((chisqr, colname))\n",
    "\n",
    "chisqrs = sorted(chisqrs)[::-1]\n",
    "chisqrs_top = chisqrs[:20]\n",
    "values = [d[0] for d in chisqrs_top]\n",
    "chi_labels = [d[1].replace(\"_\", \"\\n\") for d in chisqrs_top]\n",
    "\n",
    "index = np.arange(len(chisqrs_top))\n",
    "bar_width = .35\n",
    "opacity=0.4\n",
    "\n",
    "plt.figure(figsize=(15, 10))\n",
    "plt.title(\"Attributes most associated with income\")\n",
    "plt.bar(index, values, bar_width, align='center')\n",
    "plt.xticks(index, chi_labels)\n",
    "plt.ylabel(\"Chi-squared values\")\n",
    "plt.xlabel(\"Attributes\")\n",
    "plt.autoscale()\n",
    "plt.tight_layout()\n",
    "plt.show()"
   ]
  },
  {
   "cell_type": "markdown",
   "metadata": {},
   "source": [
    "From the results of our chi squared test we estimate that occupation is one of the most important features, along with education, capital gains and dividends from stocks. This makes sense given that certain jobs tend to pay more, and a higher education lvel is usually needed to attain these jobs. It also makes sense that capital gains and dividends from stocks would be highly correlated with income because in general wealthier people have more money to make investments."
   ]
  },
  {
   "cell_type": "code",
   "execution_count": 11,
   "metadata": {},
   "outputs": [
    {
     "name": "stdout",
     "output_type": "stream",
     "text": [
      "['country_of_birth_father', 'member_of_a_labor_union', 'country_of_birth_mother', 'hispanic_origin', 'enrolled_in_edu_inst_last_wk', 'race', 'country_of_birth_self', 'migration_code-change_in_msa', 'migration_code-change_in_reg', 'migration_code-move_within_reg', 'live_in_this_house_1_year_ago', 'state_of_previous_residence', 'region_of_previous_residence', 'citizenship', 'migration_prev_res_in_sunbelt', 'reason_for_unemployment', 'fill_inc_questionnaire_for_veterans_admin', 'wage_per_hour', 'year', 'full_or_part_time_employment_stat']\n"
     ]
    }
   ],
   "source": [
    "drop_labels = [c[1] for c in chisqrs[-20:]]\n",
    "print(drop_labels)"
   ]
  },
  {
   "cell_type": "markdown",
   "metadata": {},
   "source": [
    "Next we check how many instances are in each class to see if we need to do any balancing."
   ]
  },
  {
   "cell_type": "code",
   "execution_count": 12,
   "metadata": {
    "collapsed": true
   },
   "outputs": [],
   "source": [
    "df_train.drop(drop_labels, axis=1, inplace=True)\n",
    "df_test.drop(drop_labels, axis=1, inplace=True)\n",
    "\n",
    "categorical_labels = [label for label in categorical_labels if label not in drop_labels]\n",
    "continuous_labels = [label for label in continuous_labels if label not in drop_labels]"
   ]
  },
  {
   "cell_type": "markdown",
   "metadata": {},
   "source": [
    "In order to make our data set smaller and still keep our accuracy, we decided to remove the bottom 20 attributes due to their low correlation with the income class. Our data set was significantly reduced (almost by half), but we felt it was justified due to the minimal impact those attributes had on our classification. We were then able to run the data faster and more often."
   ]
  },
  {
   "cell_type": "markdown",
   "metadata": {},
   "source": [
    "### Balancing the Dataset"
   ]
  },
  {
   "cell_type": "code",
   "execution_count": 13,
   "metadata": {},
   "outputs": [
    {
     "data": {
      "image/png": "[encoded data removed]",
      "text/plain": [
       "<matplotlib.figure.Figure at 0x7f01065e7208>"
      ]
     },
     "metadata": {},
     "output_type": "display_data"
    }
   ],
   "source": [
    "import matplotlib.pyplot as plt\n",
    "\n",
    "sizes = np.bincount(df_train['income'].values)\n",
    "\n",
    "plt.pie(sizes, labels=labels['income'], autopct='%1.1f%%')\n",
    "plt.axis('equal')\n",
    "plt.title('Class balance')\n",
    "plt.show()"
   ]
  },
  {
   "cell_type": "markdown",
   "metadata": {},
   "source": [
    "From the chart we can see that there is a very high class imbalance. In order to deal with this we will oversample the 50000+ class and undersample the -50000 class."
   ]
  },
  {
   "cell_type": "code",
   "execution_count": 14,
   "metadata": {
    "collapsed": true
   },
   "outputs": [],
   "source": [
    "# over sample class\n",
    "\n",
    "df_ = df_train.copy().reset_index(drop=True)\n",
    "\n",
    "total_size = df_.shape[0]\n",
    "below50k_indices = df_[df_['income'] == 0].index\n",
    "above50k_indices = df_[df_['income'] == 1].index\n",
    "\n",
    "below50k_indices_sample = np.random.choice(below50k_indices, total_size // 2)\n",
    "above50k_indices_sample = np.random.choice(above50k_indices, total_size // 2)\n",
    "\n",
    "df_sampled = pd.concat([df_.iloc[below50k_indices_sample], df_.iloc[above50k_indices_sample]])\n",
    "df_sampled = df_sampled.reset_index(drop=True)"
   ]
  },
  {
   "cell_type": "markdown",
   "metadata": {},
   "source": [
    "Now we have a balanced dataset."
   ]
  },
  {
   "cell_type": "code",
   "execution_count": 15,
   "metadata": {},
   "outputs": [
    {
     "data": {
      "image/png": "[encoded data removed]",
      "text/plain": [
       "<matplotlib.figure.Figure at 0x7f00c48dbc50>"
      ]
     },
     "metadata": {},
     "output_type": "display_data"
    }
   ],
   "source": [
    "sizes = np.bincount(df_sampled['income'].values)\n",
    "\n",
    "plt.pie(sizes, labels=labels['income'], startangle=90, autopct='%1.1f%%')\n",
    "plt.axis('equal')\n",
    "plt.title('Class balance')\n",
    "plt.show()"
   ]
  },
  {
   "cell_type": "markdown",
   "metadata": {},
   "source": [
    "### Crossing Attributes"
   ]
  },
  {
   "cell_type": "code",
   "execution_count": 16,
   "metadata": {
    "collapsed": true
   },
   "outputs": [],
   "source": [
    "cross_columns_initial = [('education','occupation_code')]"
   ]
  },
  {
   "cell_type": "markdown",
   "metadata": {},
   "source": [
    "TODO: Write about features combining"
   ]
  },
  {
   "cell_type": "markdown",
   "metadata": {},
   "source": [
    "### Scoring our Results"
   ]
  },
  {
   "cell_type": "code",
   "execution_count": 17,
   "metadata": {
    "collapsed": true
   },
   "outputs": [],
   "source": [
    "from sklearn.metrics import confusion_matrix\n",
    "from sklearn.metrics import recall_score\n",
    "from sklearn.metrics import roc_curve, auc"
   ]
  },
  {
   "cell_type": "markdown",
   "metadata": {},
   "source": [
    "As mentioned above, we are evaluating our model on how well we can classify the >50k class and avoid false negatives. We do this by scoring our model with a recall score."
   ]
  },
  {
   "cell_type": "markdown",
   "metadata": {},
   "source": [
    "### Splitting the Data"
   ]
  },
  {
   "cell_type": "code",
   "execution_count": 18,
   "metadata": {
    "collapsed": true
   },
   "outputs": [],
   "source": [
    "from sklearn.model_selection import StratifiedShuffleSplit\n",
    "\n",
    "sss = StratifiedShuffleSplit(n_splits=5, test_size=0.5)"
   ]
  },
  {
   "cell_type": "markdown",
   "metadata": {},
   "source": [
    "For our cross validation method we decided to train on the balanced set, and then test using an set with the original class balance. Instead of using the sklearn stratified shuffle split we will use the pandas sample method to get a stratified sample of each data frame. We chose to do this so that we can split our test set and train set separately. We also chose to do a shuffle split instead of stratified k-folds due to how large our dataset is and stratified shuffle split is a bit faster than k-folds. It is also the recommended method by the source where we received our data from.\n",
    "___"
   ]
  },
  {
   "cell_type": "markdown",
   "metadata": {},
   "source": [
    "## Modeling"
   ]
  },
  {
   "cell_type": "markdown",
   "metadata": {},
   "source": [
    "### Creating a wide and deep network using tensorflow"
   ]
  },
  {
   "cell_type": "markdown",
   "metadata": {},
   "source": [
    "Now create a wide and deep neural network using Tensorflow. First we have to create some helper functions to process the data for TF's classifiers."
   ]
  },
  {
   "cell_type": "code",
   "execution_count": 19,
   "metadata": {
    "collapsed": true
   },
   "outputs": [],
   "source": [
    "import tensorflow as tf\n",
    "from tensorflow.contrib import learn\n",
    "from tensorflow.contrib import layers\n",
    "from tensorflow.contrib.learn.python import SKCompat\n",
    "from tensorflow.contrib.learn.python.learn.estimators import model_fn as model_fn_lib\n",
    "tf.logging.set_verbosity(tf.logging.ERROR) # control the verbosity of tensor flow"
   ]
  },
  {
   "cell_type": "code",
   "execution_count": 20,
   "metadata": {
    "collapsed": true
   },
   "outputs": [],
   "source": [
    "# https://www.tensorflow.org/tutorials/wide_and_deep\n",
    "def process_input_cc(df, label_header, categ_headers, numeric_headers):\n",
    "    # input: what ever you need it to be\n",
    "    # output: (dict of feature columns as tensors), (labels as tensors)\n",
    "    \n",
    "    continuous_cols = {k: tf.reshape(tf.constant(df[k].values), [-1]) for k in numeric_headers}\n",
    "      \n",
    "    # tensors to be sparse one-hot encoded values\n",
    "    # Creates a dictionary mapping from each categorical feature column name (k)\n",
    "    # to the values of that column stored in a tf.SparseTensor.\n",
    "    categorical_cols = {k: tf.SparseTensor(\n",
    "                              indices=[[i, 0] for i in range(df[k].size)],\n",
    "                              values=df[k].astype(str).values,\n",
    "                              dense_shape=[df[k].size, 1])\n",
    "                        for k in categ_headers}\n",
    "    \n",
    "    # Merges the two dictionaries into one.\n",
    "    feature_cols = dict(categorical_cols)\n",
    "    feature_cols.update(continuous_cols)\n",
    "    \n",
    "    # Convert the label column into a constant Tensor.\n",
    "    label = None\n",
    "    if label_header is not None:\n",
    "        label = tf.constant(df[label_header].values)\n",
    "        \n",
    "    return feature_cols, label"
   ]
  },
  {
   "cell_type": "markdown",
   "metadata": {},
   "source": [
    "Now we create a function to set up the wide and deep columns that will accept a list of columns to cross so we can experiment with different combinations."
   ]
  },
  {
   "cell_type": "code",
   "execution_count": 42,
   "metadata": {
    "collapsed": true
   },
   "outputs": [],
   "source": [
    "# update the model to take input features as a dictionary\n",
    "def setup_wide_deep_columns(cross_columns):\n",
    "    # the prototype for this function is as follows\n",
    "    # input:  (features, targets) \n",
    "    # output: (predictions, loss, train_op)\n",
    "    \n",
    "    wide_columns = []    \n",
    "    deep_columns = []\n",
    "    # add in each of the categorical columns to both wide and deep features\n",
    "    for col in categorical_labels:\n",
    "        wide_columns.append(\n",
    "            layers.sparse_column_with_keys(col, keys=[str(x) for x in labels[col]])\n",
    "        )\n",
    "        \n",
    "        dim = round(np.log2(len(labels[col]))) + 1\n",
    "        deep_columns.append(\n",
    "            layers.embedding_column(wide_columns[-1], dimension=dim)\n",
    "        )\n",
    "        \n",
    "    # also add in some specific crossed columns\n",
    "    for tup in cross_columns:\n",
    "        wide_columns.append(\n",
    "            layers.crossed_column(\n",
    "                [layers.sparse_column_with_keys(tup[0], keys=[str(x) for x in labels[tup[0]]]),\n",
    "                 layers.sparse_column_with_keys(tup[1], keys=[str(x) for x in labels[tup[1]]])],\n",
    "            hash_bucket_size=int(1e4))\n",
    "        )\n",
    "        \n",
    "        \n",
    "    # and add in the regular dense features \n",
    "    for col in continuous_labels:\n",
    "        deep_columns.append(\n",
    "            layers.real_valued_column(col)\n",
    "        )\n",
    "                    \n",
    "    return wide_columns, deep_columns"
   ]
  },
  {
   "cell_type": "markdown",
   "metadata": {},
   "source": [
    "### Comparing different architectures"
   ]
  },
  {
   "cell_type": "code",
   "execution_count": 43,
   "metadata": {},
   "outputs": [
    {
     "name": "stdout",
     "output_type": "stream",
     "text": [
      "DNN1\n",
      "[[ 19   5]\n",
      " [ 81 369]] 0.82\n",
      "DNN2\n",
      "[[ 16   8]\n",
      " [ 63 387]] 0.86\n",
      "DNN1\n",
      "[[ 29   4]\n",
      " [113 328]] 0.743764172336\n",
      "DNN2\n",
      "[[ 30   3]\n",
      " [118 323]] 0.732426303855\n",
      "DNN1\n",
      "[[ 26   3]\n",
      " [ 95 350]] 0.786516853933\n",
      "DNN2\n",
      "[[ 26   3]\n",
      " [113 332]] 0.74606741573\n",
      "DNN1\n",
      "[[ 21   0]\n",
      " [100 353]] 0.779249448124\n",
      "DNN2\n",
      "[[ 20   1]\n",
      " [ 95 358]] 0.790286975717\n",
      "DNN1\n",
      "[[ 24   8]\n",
      " [ 89 353]] 0.798642533937\n",
      "DNN2\n",
      "[[ 25   7]\n",
      " [ 99 343]] 0.776018099548\n",
      "CPU times: user 3min 39s, sys: 30.7 s, total: 4min 9s\n",
      "Wall time: 2min 43s\n"
     ]
    }
   ],
   "source": [
    "%%time\n",
    "\n",
    "# Compare different archs\n",
    "\n",
    "df = df_sampled.sample(frac=0.01)\n",
    "#df = df_train.sample(frac=0.01)\n",
    "#df = df_sampled.copy()\n",
    "\n",
    "wide_columns, deep_columns = setup_wide_deep_columns(cross_columns_initial)\n",
    "\n",
    "n_splits = 5 \n",
    "\n",
    "dnn1_scores = []\n",
    "dnn2_scores = []\n",
    "\n",
    "# Stratified shuffle split where training set is balanced, test set unbalanced\n",
    "for i in range(0, n_splits):\n",
    "    df_train_sample = df.sample(frac=1/n_splits)\n",
    "    df_test_sample = df_test.sample(frac=0.01)\n",
    "   \n",
    "    dnn1 = learn.DNNLinearCombinedClassifier(\n",
    "                            linear_feature_columns=wide_columns,\n",
    "                            dnn_feature_columns=deep_columns,\n",
    "                            dnn_hidden_units=[1000, 500])\n",
    "    \n",
    "    dnn2 = learn.DNNLinearCombinedClassifier(\n",
    "                            linear_feature_columns=wide_columns,\n",
    "                            dnn_feature_columns=deep_columns,\n",
    "                            dnn_hidden_units=[50, 50, 50, 50])   \n",
    "\n",
    "    input_wrapper = lambda:process_input_cc(df_train_sample,'income',categorical_labels, continuous_labels)\n",
    "    output_wrapper = lambda:process_input_cc(df_test_sample,None,categorical_labels, continuous_labels)\n",
    "    \n",
    "    y_test = df_test_sample['income']\n",
    "\n",
    "    dnn1.fit(input_fn=input_wrapper, steps=500)\n",
    "    yhat_dnn1 = list(dnn1.predict(input_fn=output_wrapper))\n",
    "    print('DNN1')\n",
    "    print(confusion_matrix(y_test,yhat_dnn1),\n",
    "          recall_score(y_test,yhat_dnn1))\n",
    "    \n",
    "    \n",
    "    dnn2.fit(input_fn=input_wrapper, steps=500)\n",
    "    yhat_dnn2 = list(dnn2.predict(input_fn=output_wrapper))\n",
    "    print('DNN2')\n",
    "    print(confusion_matrix(y_test,yhat_dnn2),\n",
    "          recall_score(y_test,yhat_dnn2))\n",
    "    \n",
    "    \n",
    "    dnn1_scores.append(recall_score(y_test,yhat_dnn1))\n",
    "    dnn2_scores.append(recall_score(y_test,yhat_dnn2))"
   ]
  },
  {
   "cell_type": "code",
   "execution_count": 25,
   "metadata": {},
   "outputs": [
    {
     "name": "stdout",
     "output_type": "stream",
     "text": [
      "DNN1 average: 0.8144159741047163\n",
      "DNN2 average: 0.8191022630722389\n"
     ]
    }
   ],
   "source": [
    "print('DNN1 average: {}'.format(np.average(dnn1_scores)))\n",
    "print('DNN2 average: {}'.format(np.average(dnn2_scores)))"
   ]
  },
  {
   "cell_type": "code",
   "execution_count": 28,
   "metadata": {},
   "outputs": [
    {
     "data": {
      "image/png": "[encoded data removed]",
      "text/plain": [
       "<matplotlib.figure.Figure at 0x7f00537cddd8>"
      ]
     },
     "metadata": {},
     "output_type": "display_data"
    }
   ],
   "source": [
    "bar_width = 0.20\n",
    "index = np.arange(n_splits)\n",
    "opacity=0.4\n",
    "\n",
    "plt.bar(index, dnn1_scores, bar_width, align='center',\n",
    "        color='b', label='DNN1', alpha=opacity)\n",
    "plt.bar(index + bar_width, dnn2_scores, bar_width,\n",
    "        align='center', color='r', label='DNN2', alpha=opacity)\n",
    "\n",
    "plt.legend()\n",
    "plt.tight_layout()\n",
    "plt.show()"
   ]
  },
  {
   "cell_type": "markdown",
   "metadata": {},
   "source": [
    "### Comparison with MLP"
   ]
  },
  {
   "cell_type": "code",
   "execution_count": 29,
   "metadata": {},
   "outputs": [
    {
     "name": "stdout",
     "output_type": "stream",
     "text": [
      "DNN\n",
      "[[ 22   2]\n",
      " [102 348]] 0.773333333333\n",
      "MLP\n",
      "[[ 20   4]\n",
      " [106 344]] 0.764444444444\n",
      "DNN\n",
      "[[ 29   5]\n",
      " [107 333]] 0.756818181818\n",
      "MLP\n",
      "[[ 30   4]\n",
      " [188 252]] 0.572727272727\n",
      "DNN\n",
      "[[ 21   2]\n",
      " [116 335]] 0.742793791574\n",
      "MLP\n",
      "[[ 16   7]\n",
      " [ 89 362]] 0.80266075388\n",
      "DNN\n",
      "[[ 20   4]\n",
      " [124 326]] 0.724444444444\n",
      "MLP\n",
      "[[ 18   6]\n",
      " [ 82 368]] 0.817777777778\n",
      "DNN\n",
      "[[ 17   4]\n",
      " [102 351]] 0.774834437086\n",
      "MLP\n",
      "[[ 20   1]\n",
      " [110 343]] 0.757174392936\n",
      "CPU times: user 1min 42s, sys: 26.1 s, total: 2min 8s\n",
      "Wall time: 1min 37s\n"
     ]
    }
   ],
   "source": [
    "%%time\n",
    "\n",
    "from sklearn.neural_network import MLPClassifier\n",
    "from numpy import interp\n",
    "\n",
    "tf.logging.set_verbosity(tf.logging.ERROR)\n",
    "\n",
    "# use entire dataset if training on maneframe\n",
    "df = df_sampled.sample(frac=0.01)\n",
    "#df = df_sampled.copy()\n",
    "\n",
    "wide_columns, deep_columns = setup_wide_deep_columns(cross_columns_initial)\n",
    "\n",
    "mlp_roc_auc = []\n",
    "dnn_roc_auc = []\n",
    "\n",
    "mean_tpr_mlp = 0.0\n",
    "mean_fpr_mlp = np.linspace(0, 1, 100)\n",
    "mean_tpr_dnn = 0.0\n",
    "mean_fpr_dnn = np.linspace(0, 1, 100)\n",
    "\n",
    "n_splits = 5\n",
    "\n",
    "for i in range(0, n_splits):\n",
    "    df_train_sample = df.sample(frac=1/n_splits)\n",
    "    df_test_sample = df_test.sample(frac=0.01)\n",
    "    \n",
    "    X_train = df_train_sample.drop('income', axis=1)\n",
    "    y_train = df_train_sample['income']\n",
    "\n",
    "    X_test = df_test_sample.drop('income', axis=1)\n",
    "    y_test = df_test_sample['income']\n",
    " \n",
    "    \n",
    "    dnn = learn.DNNLinearCombinedClassifier(\n",
    "                            linear_feature_columns=wide_columns,\n",
    "                            dnn_feature_columns=deep_columns,\n",
    "                            dnn_hidden_units=[100, 50, 25, 5])\n",
    "    \n",
    "    mlp = MLPClassifier()\n",
    "    \n",
    "    \n",
    "    \n",
    "    input_wrapper = lambda:process_input_cc(df_train_sample,'income',categorical_labels, continuous_labels)\n",
    "    output_wrapper = lambda:process_input_cc(df_test_sample,None,categorical_labels, continuous_labels)\n",
    "    \n",
    "    \n",
    "    dnn.fit(input_fn=input_wrapper, steps=500)\n",
    "    mlp.fit(X_train, y_train)\n",
    "\n",
    "    yhat_dnn = list(dnn.predict(input_fn=output_wrapper))\n",
    "    yhat_mlp = mlp.predict(X_test)\n",
    "\n",
    "    print('DNN')\n",
    "    print(confusion_matrix(y_test,yhat_dnn),\n",
    "          recall_score(y_test,yhat_dnn))\n",
    "    \n",
    "    print('MLP')\n",
    "    print(confusion_matrix(y_test,yhat_mlp),\n",
    "          recall_score(y_test,yhat_mlp))\n",
    "    \n",
    "    probs_dnn = list(dnn.predict_proba(input_fn=output_wrapper))\n",
    "    probs_dnn = np.array(probs_dnn)[:,1]\n",
    "    fpr_dnn, tpr_dnn, _ = roc_curve(y_test, probs_dnn)\n",
    "    dnn_roc_auc.append((fpr_dnn, tpr_dnn, auc(fpr_dnn, tpr_dnn)))\n",
    "    mean_tpr_dnn += interp(mean_fpr_dnn, fpr_dnn, tpr_dnn)\n",
    "    mean_tpr_dnn[0] = 0.0   \n",
    "    \n",
    "    probs_mlp = mlp.predict_proba(X_test)\n",
    "    probs_mlp = np.array(probs_mlp)[:,1]\n",
    "    fpr_mlp, tpr_mlp, _ = roc_curve(y_test, probs_mlp)\n",
    "    mlp_roc_auc.append((fpr_mlp, tpr_mlp, auc(fpr_mlp, tpr_mlp)))\n",
    "    mean_tpr_mlp  += interp(mean_fpr_mlp, fpr_mlp, tpr_mlp)\n",
    "    mean_tpr_mlp [0] = 0.0"
   ]
  },
  {
   "cell_type": "code",
   "execution_count": 30,
   "metadata": {
    "collapsed": true
   },
   "outputs": [],
   "source": [
    "mean_tpr_mlp /= n_splits\n",
    "mean_tpr_mlp[-1] = 1.0\n",
    "mean_auc_mlp = auc(mean_fpr_mlp, mean_tpr_mlp)\n",
    "\n",
    "mean_tpr_dnn /= n_splits\n",
    "mean_tpr_dnn[-1] = 1.0\n",
    "mean_auc_dnn = auc(mean_fpr_dnn, mean_tpr_dnn)"
   ]
  },
  {
   "cell_type": "code",
   "execution_count": 31,
   "metadata": {},
   "outputs": [
    {
     "data": {
      "image/png": "[encoded data removed]",
      "text/plain": [
       "<matplotlib.figure.Figure at 0x7f0053734160>"
      ]
     },
     "metadata": {},
     "output_type": "display_data"
    }
   ],
   "source": [
    "import matplotlib.pyplot as plt\n",
    "\n",
    "plt.figure()\n",
    "lw = 2\n",
    "i = 0\n",
    "for fpr, tpr, auc_ in dnn_roc_auc:\n",
    "        plt.plot(fpr, tpr, color='darkorange',\n",
    "             lw=lw, label='ROC curve # %d (DNN) (area = %0.2f)' % (i, auc_))\n",
    "        i += 1\n",
    "for fpr, tpr, auc_ in mlp_roc_auc:\n",
    "        plt.plot(fpr, tpr, color='green',\n",
    "             lw=lw, label='ROC curve # %d (MLP) (area = %0.2f)' % (i, auc_))\n",
    "        i += 1        \n",
    "        \n",
    "plt.plot(mean_fpr_mlp, mean_tpr_mlp, 'k--', label='mean ROC (MLP) (area = %0.2f)' % mean_auc_mlp, lw=2)\n",
    "plt.plot(mean_fpr_dnn, mean_tpr_dnn, 'k-', label='mean ROC (DNN) (area = %0.2f)' % mean_auc_dnn, lw=2)\n",
    "\n",
    "plt.plot([0, 1], [0, 1], color='navy', lw=lw, linestyle='--')\n",
    "plt.xlim([0.0, 1.0])\n",
    "plt.ylim([0.0, 1.05])\n",
    "plt.xlabel('False Positive Rate')\n",
    "plt.ylabel('True Positive Rate')\n",
    "plt.title('Receiver operating characteristic example')\n",
    "plt.legend(loc=\"lower right\")\n",
    "plt.show()"
   ]
  },
  {
   "cell_type": "markdown",
   "metadata": {},
   "source": [
    "When comparing our network with SKLearning MLP, we notice that even though the averages are the same, the ROC curve for the DNN is more stable throughout than the ROC curve for the MLP. "
   ]
  },
  {
   "cell_type": "markdown",
   "metadata": {
    "collapsed": true
   },
   "source": [
    "___"
   ]
  },
  {
   "cell_type": "markdown",
   "metadata": {},
   "source": [
    "## Exceptional Work (10 points total)\n",
    "   \n",
    "### One idea: Investigate which cross-product features are most important and hypothesize why.\n",
    "___"
   ]
  },
  {
   "cell_type": "markdown",
   "metadata": {},
   "source": [
    "### Cross-Product Features\n",
    "We have decided to analyze and theorize which cross-product features will help the model learn to classify people into the >50k and \\<50k income brackets.\n",
    "\n",
    "To begin, we first examined the attributes sex and age.  We believed that these would have a higher correlation with income than what was appearing in the chi-square graph.  We thought that it was possible that the network could learn quite a bit by combining these and recognizing that a woman between 20 and 30 is likely to take a leave from work or that a male/female above 65 will be likely to have retired.  \n",
    "\n",
    "We also thought that by pairing capital gains and capital losses we could learn quite a bit about the overall income of the individual so we paired those together as well.\n",
    "\n",
    "Finally, we also thought that dividends along with information about the occupation/industry the individual is in would be relevant in determining the level of position the individual is in, so we also included those cross pairs.  Below is a comparison of the performance of these various cross product sets."
   ]
  },
  {
   "cell_type": "code",
   "execution_count": null,
   "metadata": {},
   "outputs": [
    {
     "name": "stdout",
     "output_type": "stream",
     "text": [
      "DNN with [('sex', 'age')]\n",
      "[[ 21   4]\n",
      " [106 343]] 0.763919821826\n",
      "DNN with [('sex', 'age')]\n",
      "[[ 18   3]\n",
      " [102 351]] 0.774834437086\n",
      "DNN with [('sex', 'age')]\n",
      "[[ 34   4]\n",
      " [ 89 347]] 0.795871559633\n"
     ]
    }
   ],
   "source": [
    "%%time\n",
    "\n",
    "# Compare different archs\n",
    "cross_product_feature_sets = [\n",
    "    [(\"sex\",\"age\")],\n",
    "    [(\"capital_gains\",\"occupation_code\")],\n",
    "    [(\"captial_gains\",\"capital_losses\")]\n",
    "]\n",
    "\n",
    "df = df_sampled.sample(frac=0.01)\n",
    "\n",
    "for cross_product_set in cross_product_feature_sets:\n",
    "    #df = df_sampled.sample(frac=0.01)\n",
    "    #df = df_train.sample(frac=0.01)\n",
    "    #df = df_sampled.copy()\n",
    "\n",
    "    wide_columns, deep_columns = setup_wide_deep_columns(cross_columns_initial)\n",
    "\n",
    "    n_splits = 5 \n",
    "\n",
    "    dnn1_scores = []\n",
    "    dnn2_scores = []\n",
    "\n",
    "    # Stratified shuffle split where training set is balanced, test set unbalanced\n",
    "    for i in range(0, n_splits):\n",
    "        df_train_sample = df.sample(frac=1/n_splits)\n",
    "        df_test_sample = df_test.sample(frac=0.01)\n",
    "\n",
    "        dnn = learn.DNNLinearCombinedClassifier(\n",
    "                                linear_feature_columns=wide_columns,\n",
    "                                dnn_feature_columns=deep_columns,\n",
    "                                dnn_hidden_units=[1000, 500])   \n",
    "\n",
    "        input_wrapper = lambda:process_input_cc(df_train_sample,'income',categorical_labels, continuous_labels)\n",
    "        output_wrapper = lambda:process_input_cc(df_test_sample,None,categorical_labels, continuous_labels)\n",
    "        \n",
    "        dnn.fit(input_fn=input_wrapper, steps=500)\n",
    "        y_test = df_test_sample['income']\n",
    "        yhat_dnn = list(dnn.predict(input_fn=output_wrapper))\n",
    "\n",
    "        print('DNN with', cross_product_set)\n",
    "        print(confusion_matrix(y_test,yhat_dnn),\n",
    "              recall_score(y_test,yhat_dnn))"
   ]
  },
  {
   "cell_type": "code",
   "execution_count": null,
   "metadata": {
    "collapsed": true
   },
   "outputs": [],
   "source": []
  }
 ],
 "metadata": {
  "anaconda-cloud": {},
  "kernelspec": {
   "display_name": "Python 3",
   "language": "python",
   "name": "python3"
  },
  "language_info": {
   "codemirror_mode": {
    "name": "ipython",
    "version": 3
   },
   "file_extension": ".py",
   "mimetype": "text/x-python",
   "name": "python",
   "nbconvert_exporter": "python",
   "pygments_lexer": "ipython3",
   "version": "3.4.2"
  }
 },
 "nbformat": 4,
 "nbformat_minor": 2
}
