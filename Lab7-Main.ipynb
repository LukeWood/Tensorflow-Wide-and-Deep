{
 "cells": [
  {
   "cell_type": "markdown",
   "metadata": {
    "deletable": true,
    "editable": true
   },
   "source": [
    "# Car Evaluation 🚗 2.5 (McQueen Edition)\n",
    "   \n",
    "## Lab Seven: Wide and Deep Network Architectures\n",
    "   \n",
    "### Justin Ledford, Luke Wood, Traian Pop"
   ]
  },
  {
   "cell_type": "code",
   "execution_count": 1,
   "metadata": {
    "collapsed": true,
    "deletable": true,
    "editable": true
   },
   "outputs": [],
   "source": [
    "%matplotlib inline\n",
    "import numpy as np\n",
    "import plotly\n",
    "import pandas as pd\n",
    "import matplotlib.pyplot as plt\n",
    "import time\n",
    "import sys\n",
    "import requests\n",
    "\n",
    "import warnings\n",
    "warnings.filterwarnings('ignore')"
   ]
  },
  {
   "cell_type": "markdown",
   "metadata": {
    "deletable": true,
    "editable": true
   },
   "source": [
    "## Dataset Selection\n",
    "\n",
    "Select a dataset identically to lab one. That is, the dataset must be table data. In terms of generalization performance, it is helpful to have a large dataset for building a wide and deep network. It is also helpful to have many different categorical features to create the embeddings and cross-product embeddings. It is fine to perform binary classification or multi-class classification.\n",
    "https://archive.ics.uci.edu/ml/machine-learning-databases/adult/\n",
    "\n",
    "___ "
   ]
  },
  {
   "cell_type": "markdown",
   "metadata": {
    "deletable": true,
    "editable": true
   },
   "source": [
    "## Preparation (40 points total)\n",
    "   \n",
    "### [10 points] Define and prepare your class variables. Use proper variable representations (int, float, one-hot, etc.). Use pre-processing methods (as needed) for dimensionality reduction, scaling, etc. Remove variables that are not needed/useful for the analysis. Describe the final dataset that is used for classification/regression (include a description of any newly formed variables you created). \n",
    "   \n",
    "### [10 points] Identify groups of features in your data that should be combined into cross-product features.\n",
    "   \n",
    "### [10 points] Choose and explain what metric(s) you will use to evaluate your algorithm’s performance. You should give a detailed argument for why this (these) metric(s) are appropriate on your data. That is, why is the metric appropriate for the task (e.g., in terms of the business case for the task). Please note: rarely is accuracy the best evaluation metric to use. Think deeply about an appropriate measure of performance.\n",
    "   \n",
    "### [10 points] Choose the method you will use for dividing your data into training and testing (i.e., are you using Stratified 10-fold cross validation? Shuffle splits? Why?). Explain why your chosen method is appropriate or use more than one method as appropriate. Convince me that your cross validation method is a realistic mirroring of how an algorithm would be used in practice. \n",
    "___"
   ]
  },
  {
   "cell_type": "code",
   "execution_count": 3,
   "metadata": {
    "collapsed": false,
    "deletable": true,
    "editable": true
   },
   "outputs": [],
   "source": [
    "import pandas as pd\n",
    "import numpy as np\n",
    "import requests\n",
    "\n",
    "r = requests.get('https://raw.githubusercontent.com/LukeWoodSMU/WillBeRenamed/master/col_names.txt')\n",
    "\n",
    "if r.status_code == 200:\n",
    "    headers = r.text.split('\\n')\n",
    "else:\n",
    "    print('Error loading column names')\n",
    "        \n",
    "\n",
    "df = pd.read_csv(\n",
    "        'https://archive.ics.uci.edu/ml/machine-learning-databases/census-income-mld/census-income.data.gz',\n",
    "        compression='gzip', header=None, names=headers)\n",
    "\n",
    "df_test = pd.read_csv(\n",
    "        'https://archive.ics.uci.edu/ml/machine-learning-databases/census-income-mld/census-income.test.gz',\n",
    "        compression='gzip', header=None, names=headers)"
   ]
  },
  {
   "cell_type": "code",
   "execution_count": 4,
   "metadata": {
    "collapsed": false,
    "deletable": true,
    "editable": true
   },
   "outputs": [
    {
     "name": "stdout",
     "output_type": "stream",
     "text": [
      "<class 'pandas.core.frame.DataFrame'>\n",
      "RangeIndex: 199523 entries, 0 to 199522\n",
      "Data columns (total 46 columns):\n",
      "age                                           199523 non-null int64\n",
      "class of worker                               199523 non-null object\n",
      "industry code                                 199523 non-null int64\n",
      "occupation code                               199523 non-null int64\n",
      "adjusted gross income                         199523 non-null object\n",
      "education                                     199523 non-null int64\n",
      "wage per hour                                 199523 non-null object\n",
      "enrolled in edu inst last wk                  199523 non-null object\n",
      "marital status                                199523 non-null object\n",
      "major industry code                           199523 non-null object\n",
      "major occupation code                         199523 non-null object\n",
      "mace                                          199523 non-null object\n",
      "hispanic Origin                               199523 non-null object\n",
      "sex                                           199523 non-null object\n",
      "member of a labor union                       199523 non-null object\n",
      "reason for unemployment                       199523 non-null object\n",
      "full or part time employment stat             199523 non-null int64\n",
      "capital gains                                 199523 non-null int64\n",
      "capital losses                                199523 non-null int64\n",
      "divdends from stocks                          199523 non-null object\n",
      "federal income tax liability                  199523 non-null object\n",
      "tax filer status                              199523 non-null object\n",
      "region of previous residence                  199523 non-null object\n",
      "state of previous residence                   199523 non-null object\n",
      "detailed household and family stat            199523 non-null float64\n",
      "detailed household summary in household       199523 non-null object\n",
      "instance weight                               199523 non-null object\n",
      "migration code-change in msa                  199523 non-null object\n",
      "migration code-change in reg                  199523 non-null object\n",
      "migration code-move within reg                199523 non-null object\n",
      "live in this house 1 year ago                 199523 non-null int64\n",
      "migration prev res in sunbelt                 199523 non-null object\n",
      "num persons worked for employer               199523 non-null object\n",
      "family members under 18                       199523 non-null object\n",
      "total person earnings                         199523 non-null object\n",
      "country of birth father                       199523 non-null object\n",
      "country of birth mother                       199523 non-null int64\n",
      "country of birth self                         199523 non-null object\n",
      "citizenship                                   199523 non-null int64\n",
      "total person income                           199523 non-null int64\n",
      "own business or self employed                 199523 non-null int64\n",
      "taxable income amount                         199523 non-null object\n",
      "fill inc questionnaire for veteran's admin    0 non-null float64\n",
      "veterans benefits                             0 non-null float64\n",
      "weeks worked in year                          0 non-null float64\n",
      "                                              0 non-null float64\n",
      "dtypes: float64(5), int64(12), object(29)\n",
      "memory usage: 70.0+ MB\n"
     ]
    }
   ],
   "source": [
    "df.info()"
   ]
  },
  {
   "cell_type": "code",
   "execution_count": 5,
   "metadata": {
    "collapsed": false,
    "deletable": true,
    "editable": true
   },
   "outputs": [
    {
     "name": "stdout",
     "output_type": "stream",
     "text": [
      "<class 'pandas.core.frame.DataFrame'>\n",
      "RangeIndex: 99762 entries, 0 to 99761\n",
      "Data columns (total 46 columns):\n",
      "age                                           99762 non-null int64\n",
      "class of worker                               99762 non-null object\n",
      "industry code                                 99762 non-null int64\n",
      "occupation code                               99762 non-null int64\n",
      "adjusted gross income                         99762 non-null object\n",
      "education                                     99762 non-null int64\n",
      "wage per hour                                 99762 non-null object\n",
      "enrolled in edu inst last wk                  99762 non-null object\n",
      "marital status                                99762 non-null object\n",
      "major industry code                           99762 non-null object\n",
      "major occupation code                         99762 non-null object\n",
      "mace                                          99762 non-null object\n",
      "hispanic Origin                               99762 non-null object\n",
      "sex                                           99762 non-null object\n",
      "member of a labor union                       99762 non-null object\n",
      "reason for unemployment                       99762 non-null object\n",
      "full or part time employment stat             99762 non-null int64\n",
      "capital gains                                 99762 non-null int64\n",
      "capital losses                                99762 non-null int64\n",
      "divdends from stocks                          99762 non-null object\n",
      "federal income tax liability                  99762 non-null object\n",
      "tax filer status                              99762 non-null object\n",
      "region of previous residence                  99762 non-null object\n",
      "state of previous residence                   99762 non-null object\n",
      "detailed household and family stat            99762 non-null float64\n",
      "detailed household summary in household       99762 non-null object\n",
      "instance weight                               99762 non-null object\n",
      "migration code-change in msa                  99762 non-null object\n",
      "migration code-change in reg                  99762 non-null object\n",
      "migration code-move within reg                99762 non-null object\n",
      "live in this house 1 year ago                 99762 non-null int64\n",
      "migration prev res in sunbelt                 99762 non-null object\n",
      "num persons worked for employer               99762 non-null object\n",
      "family members under 18                       99762 non-null object\n",
      "total person earnings                         99762 non-null object\n",
      "country of birth father                       99762 non-null object\n",
      "country of birth mother                       99762 non-null int64\n",
      "country of birth self                         99762 non-null object\n",
      "citizenship                                   99762 non-null int64\n",
      "total person income                           99762 non-null int64\n",
      "own business or self employed                 99762 non-null int64\n",
      "taxable income amount                         99762 non-null object\n",
      "fill inc questionnaire for veteran's admin    0 non-null float64\n",
      "veterans benefits                             0 non-null float64\n",
      "weeks worked in year                          0 non-null float64\n",
      "                                              0 non-null float64\n",
      "dtypes: float64(5), int64(12), object(29)\n",
      "memory usage: 35.0+ MB\n"
     ]
    }
   ],
   "source": [
    "df_test.info()"
   ]
  },
  {
   "cell_type": "code",
   "execution_count": 6,
   "metadata": {
    "collapsed": true,
    "deletable": true,
    "editable": true
   },
   "outputs": [],
   "source": [
    "from copy import deepcopy\n",
    "df_train_deep = deepcopy(df)\n",
    "df_test_deep = deepcopy(df_test)"
   ]
  },
  {
   "cell_type": "markdown",
   "metadata": {
    "deletable": true,
    "editable": true
   },
   "source": [
    "## Modeling (50 points total)\n",
    "   \n",
    "### [20 points] Create a combined wide and deep network to classify your data using tensorflow.\n",
    "   \n",
    "### [20 points] Investigate generalization performance by altering the number of layers. Try at least two different deep network architectures. Use the method of cross validation and evaluation metric that you argued for at the beginning of the lab.\n",
    "\n",
    "### 10 points] Compare the performance of your best wide and deep network to a standard multi-layer perceptron (MLP) using the receiver operating characteristic and area under the curve.\n",
    "___"
   ]
  },
  {
   "cell_type": "markdown",
   "metadata": {
    "deletable": true,
    "editable": true
   },
   "source": [
    "## Exceptional Work (10 points total)\n",
    "   \n",
    "### One idea: Investigate which cross-product features are most important and hypothesize why.\n",
    "___"
   ]
  },
  {
   "cell_type": "code",
   "execution_count": null,
   "metadata": {
    "collapsed": true,
    "deletable": true,
    "editable": true
   },
   "outputs": [],
   "source": []
  },
  {
   "cell_type": "code",
   "execution_count": null,
   "metadata": {
    "collapsed": true,
    "deletable": true,
    "editable": true
   },
   "outputs": [],
   "source": []
  },
  {
   "cell_type": "code",
   "execution_count": null,
   "metadata": {
    "collapsed": true,
    "deletable": true,
    "editable": true
   },
   "outputs": [],
   "source": []
  }
 ],
 "metadata": {
  "kernelspec": {
   "display_name": "Python 3",
   "language": "python",
   "name": "python3"
  },
  "language_info": {
   "codemirror_mode": {
    "name": "ipython",
    "version": 3
   },
   "file_extension": ".py",
   "mimetype": "text/x-python",
   "name": "python",
   "nbconvert_exporter": "python",
   "pygments_lexer": "ipython3",
   "version": "3.6.0"
  }
 },
 "nbformat": 4,
 "nbformat_minor": 2
}
